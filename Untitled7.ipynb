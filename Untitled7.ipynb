{
  "nbformat": 4,
  "nbformat_minor": 0,
  "metadata": {
    "colab": {
      "name": "Untitled7.ipynb",
      "provenance": [],
      "collapsed_sections": []
    },
    "kernelspec": {
      "name": "python3",
      "display_name": "Python 3"
    }
  },
  "cells": [
    {
      "cell_type": "code",
      "metadata": {
        "id": "avsA2ZLLVLjy",
        "colab_type": "code",
        "colab": {}
      },
      "source": [
        " class Fibonacci():\n",
        "  def _init_():\n",
        "    a, b , c= 0,1,0\n",
        "  def fibo():\n",
        "    x = input(\"Berikanlah nilai x = \")\n",
        "    x = int(x)\n",
        "    print('\\r',\"Fibonacchi\",x,'\\r\\n')\n",
        "    for i in range(x):\n",
        "      print(a,'\\r')\n",
        "      c=a+b\n",
        "      a=b\n",
        "      b=c\n",
        "    "
      ],
      "execution_count": 0,
      "outputs": []
    },
    {
      "cell_type": "code",
      "metadata": {
        "id": "Fb_tfjeTVNne",
        "colab_type": "code",
        "colab": {}
      },
      "source": [
        ""
      ],
      "execution_count": 0,
      "outputs": []
    }
  ]
}